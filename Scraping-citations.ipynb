{
 "cells": [
  {
   "cell_type": "code",
   "execution_count": 1,
   "metadata": {},
   "outputs": [],
   "source": [
    "import requests"
   ]
  },
  {
   "cell_type": "code",
   "execution_count": 2,
   "metadata": {},
   "outputs": [],
   "source": [
    "response = requests.get(\"https://www.proverbes-francais.fr/citations-themes/lettre-p/\")"
   ]
  },
  {
   "cell_type": "code",
   "execution_count": 3,
   "metadata": {},
   "outputs": [
    {
     "data": {
      "text/plain": [
       "'\\ufeff<!DOCTYPE html><html lang=\"fr\" prefix=\"og: http://ogp.me/ns#\"><head><meta charset=\"UTF-8\" /><title>Index des citations des thèmes - Lettre P</title>\\r\\n<meta name=\"description\" content=\"Citations lettre P - Les citations classées par thèmes commençant par la lettre P.\" />\\r\\n<meta name=\"keywords\" lang=\"fr\" content=\"citations index,citations classés par index,dico des citations lettre\" />\\r\\n<meta name=\"viewport\" content=\"width=device-width, initial-scale=1\" />\\n<link rel=\"stylesheet\" type=\"text/css\" href=\"https://www.proverbes-francais.fr/styles.min.css\" media=\"screen\" />\\n<link rel=\"icon\" type=\"type/png\" href=\"https://www.proverbes-francais.fr/favicon.ico\" />\\n<meta name=\"robots\" content=\"index,follow,all\" />\\n<meta name=\"author\" content=\"Maxime Glehello\" />\\n<script type=\"text/javascript\" src=\"https://cache.consentframework.com/js/pa/25917/c/IvOMD/stub\" charset=\"utf-8\"></script><script type=\"text/javascript\" src=\"https://choices.consentframework.com/js/pa/25917/c/IvOMD/cmp\" charset=\"utf-8\" async></script>\\n\\n<script type=\"text/javascript\">\\nfunction sdLoadAdSense() {\\n    var tagAds = document.createElement(\\'script\\');\\n    tagAds.async = true;\\n    tagAds.setAttribute(\"data-ad-client\", \"ca-pub-1585310109702645\"); //OPTIONAL : SET CA-PUB IDENTIFIER HERE  \\n    tagAds.src = \\'https://pagead2.googlesyndication.com/pagead/js/adsbygoogle.js\\';\\n    document.getElementsByTagName(\\'head\\')[0].appendChild(tagAds);\\n}\\nvar _0x5336=[\\'useractioncomplete\\',\\'listenerId\\',\\'function\\',\\'vendor\\',\\'SDDAN\\',\\'gdprApplies\\',\\'consents\\',\\'tcString\\',\\'removeEventListener\\',\\'purpose\\',\\'addEventListener\\',\\'publisherCC\\',\\'cmpuishown\\',\\'object\\',\\'tcloaded\\',\\'eventStatus\\',\\'__tcfapi\\',\\'legitimateInterests\\'];(function(_0x24fd1b,_0x533614){var _0x1de3af=function(_0x17d403){while(--_0x17d403){_0x24fd1b[\\'push\\'](_0x24fd1b[\\'shift\\']());}};_0x1de3af(++_0x533614);}(_0x5336,0xff));var _0x1de3=function(_0x24fd1b,_0x533614){_0x24fd1b=_0x24fd1b-0x0;var _0x1de3af=_0x5336[_0x24fd1b];return _0x1de3af;};(function(){var _0x17d403=0x0,_0x31f128=setInterval(function(){_0x17d403++>=0xc8&&(clearInterval(_0x31f128),sdLoadAdSense()),typeof window[_0x1de3(\\'0xd\\')]===_0x1de3(\\'0x11\\')&&(clearInterval(_0x31f128),window[_0x1de3(\\'0xd\\')](_0x1de3(\\'0x7\\'),0x2,function(_0x2fbbc8,_0x20e8fc){if(!_0x20e8fc||!_0x2fbbc8[_0x1de3(\\'0xc\\')]&&_0x2fbbc8[\\'gdprApplies\\'])return;(!_0x2fbbc8[_0x1de3(\\'0x2\\')]||(_0x2fbbc8[_0x1de3(\\'0xc\\')]===_0x1de3(\\'0xb\\')||_0x2fbbc8[\\'eventStatus\\']===_0x1de3(\\'0xf\\')||_0x2fbbc8[_0x1de3(\\'0xc\\')]===_0x1de3(\\'0x9\\'))&&(_0x2fbbc8[_0x1de3(\\'0x4\\')]&&_0x2fbbc8[_0x1de3(\\'0x0\\')][_0x1de3(\\'0x3\\')][0x2f3]&&(_0x2fbbc8[_0x1de3(\\'0x6\\')][\\'consents\\'][0x1]||(_0x2fbbc8[\\'purpose\\'][\\'consents\\'][0x2]||_0x2fbbc8[_0x1de3(\\'0x6\\')][_0x1de3(\\'0xe\\')][0x2])&&_0x2fbbc8[_0x1de3(\\'0x8\\')]===\\'DE\\'&&_0x2fbbc8[\\'purposeOneTreatment\\'])))&&(typeof window[_0x1de3(\\'0x1\\')]===_0x1de3(\\'0xa\\')&&sdLoadAdSense(),__tcfapi(_0x1de3(\\'0x5\\'),0x2,function(){},_0x2fbbc8[_0x1de3(\\'0x10\\')]));}));},0xa);}());\\n</script>\\n<link rel=\"canonical\" href=\"https://www.proverbes-francais.fr/citations-themes/lettre-p/\" />\\r\\n<meta property=\"og:locale\" content=\"fr_FR\" />\\r\\n<meta property=\"og:type\" content=\"article\" />\\r\\n<meta property=\"og:title\" content=\"Les thèmes commençant par la lettre P\" />\\r\\n<meta property=\"og:description\" content=\"Citations lettre P - Les citations classées par thèmes qui commencent par la lettre P.\" />\\r\\n<meta property=\"og:url\" content=\"https://www.proverbes-francais.fr/citations-themes/lettre-p/\" />\\r\\n<meta property=\"og:site_name\" content=\"www.proverbes-francais.fr\" />\\r\\n<meta property=\"article:section\" content=\"Les citations classées par thèmes.\" />\\r\\n<meta property=\"og:image\" content=\"https://www.proverbes-francais.fr/admin-photos-reseaux/les-citations-classees-par-themes.png\" />\\r\\n<meta property=\"og:image:alt\" content=\"Le dictionnaire des citations classées par thèmes.\" />\\r\\n<meta name=\"twitter:card\" content=\"summary\" />\\r\\n<meta name=\"twitter:title\" content=\"Les thèmes commençant par la lettre P\" />\\r\\n<meta name=\"twitter:description\" content=\"Citations lettre P - Les citations classées par thèmes qui commencent par la lettre P.\" />\\r\\n<meta name=\"twitter:site\" content=\"www.proverbes-francais.fr\" />\\r\\n<meta name=\"twitter:image\" content=\"https://www.proverbes-francais.fr/admin-photos-reseaux/les-citations-classees-par-themes-1.png\" />\\r\\n<meta name=\"twitter:creator\" content=\"www.proverbes-francais.fr\" />\\r\\n</head><body><div id=\"conteneur\">\\r\\n<header id=\"header\"><a id=\"evitement\"></a><div class=\"titre\">Proverbes-francais.fr</div>\\n<div class=\"soustitre\">Dictionnaire des meilleurs proverbes et des plus belles citations françaises</div>\\n<div class=\"moteur-recherche\"><form id=\"cse-search-box\" action=\"https://www.proverbes-francais.fr/recherche-google/\">\\n<input type=\"hidden\" name=\"cx\" value=\"partner-pub-0128784953913162:4561113766\" />\\n<input type=\"hidden\" name=\"ie\" value=\"UTF-8\" /><input type=\"text\" name=\"q\" size=\"56\" />\\n<input type=\"submit\" name=\"sa\" value=\"Recherche sur Google\" />\\n</form></div>\\n<div style=\"clear:both\"></div></header>\\r\\n<nav class=\"navigation\"><label class=\"show-menu\" for=\"menu-toggle\">Menu rubriques</label>\\n<input type=\"checkbox\" id=\"menu-toggle\"/>\\n<ul itemscope itemtype=\"https://www.schema.org/SiteNavigationElement\" id=\"menu\">\\n<li itemprop=\"name\"><a itemprop=\"url\" href=\"https://www.proverbes-francais.fr/\">Accueil</a></li>\\n<li itemprop=\"name\"><a itemprop=\"url\" href=\"https://www.proverbes-francais.fr/citations-themes/\">Les citations par thèmes</a></li>\\n<li itemprop=\"name\"><a itemprop=\"url\" href=\"https://www.proverbes-francais.fr/proverbes-themes/\">Les proverbes par thèmes</a></li>\\n<li itemprop=\"name\"><a itemprop=\"url\" href=\"https://www.proverbes-francais.fr/proverbes-francais/\">Les proverbes de la France</a></li>\\n<li itemprop=\"name\"><a itemprop=\"url\" href=\"https://www.proverbes-francais.fr/dictons-des-mois/\">Les dictons des mois</a></li>\\n</ul>\\n<div style=\"clear:both\"></div></nav>\\r\\n<div id=\"centre\"><div id=\"content\"><article>\\r\\n<h1>Les thèmes commençant par la lettre <q> P </q>.</h1>\\r\\n<h2>Le dico des citations des thèmes :</h2>\\r\\n<div class=\"newscategories\">\\r\\n<p>Le <strong>dictionnaire contient 31261 citations</strong> classées en trois catégories : <br />\\r\\n- Les citations classées par thèmes (Catégorie dans laquelle on se trouve).<br />\\r\\n- <a href=\"https://www.proverbes-francais.fr/citations-verbes/\">Les citations et pensées classées par verbes</a>.<br />\\r\\n- <a href=\"https://www.proverbes-francais.fr/citations-auteurs/\">Les citations et pensées classées par auteurs</a>.<br />\\r\\nPour une recherche par mots clés, utilisez notre <a href=\"https://www.proverbes-francais.fr/moteur-recherche-citations/\">moteur de recherche interne</a>.</p>\\r\\n</div>\\r\\n<div id=\"menutop\"><div class=\"gamp1\">\\n<script async src=\"//pagead2.googlesyndication.com/pagead/js/adsbygoogle.js\"></script>\\n<!-- proverbes-francais réactif citations haut -->\\n<ins class=\"adsbygoogle\"\\n     style=\"display:block\"\\n     data-ad-client=\"ca-pub-1585310109702645\"\\n     data-ad-slot=\"8633064932\"\\n     data-ad-format=\"auto\"></ins>\\n<script>\\n(adsbygoogle = window.adsbygoogle || []).push({});\\n</script>\\n</div>\\n<div id=\"reseauxsociaux\" class=\"addthis_inline_share_toolbox\"></div>\\n<div style=\"clear:both\"></div></div>\\r\\n<h2>Vous êtes dans la liste des thèmes de la lettre : P</h2>\\r\\n<div class=\"menu-centrale\">\\r\\n<div class=\"listealpha\"><ul><li>\\r\\n<a href=\"https://www.proverbes-francais.fr/citations-themes/lettre-a/\">A</a>\\r\\n<a href=\"https://www.proverbes-francais.fr/citations-themes/lettre-b/\">B</a>\\r\\n<a href=\"https://www.proverbes-francais.fr/citations-themes/lettre-c/\">C</a>\\r\\n<a href=\"https://www.proverbes-francais.fr/citations-themes/lettre-d/\">D</a>\\r\\n<a href=\"https://www.proverbes-francais.fr/citations-themes/lettre-e/\">E</a>\\r\\n<a href=\"https://www.proverbes-francais.fr/citations-themes/lettre-f/\">F</a>\\r\\n<a href=\"https://www.proverbes-francais.fr/citations-themes/lettre-g/\">G</a>\\r\\n<a href=\"https://www.proverbes-francais.fr/citations-themes/lettre-h/\">H</a>\\r\\n<a href=\"https://www.proverbes-francais.fr/citations-themes/lettre-i/\">I</a>\\r\\n<a href=\"https://www.proverbes-francais.fr/citations-themes/lettre-j/\">J</a>\\r\\n<a href=\"https://www.proverbes-francais.fr/citations-themes/lettre-k/\">K</a>\\r\\n<a href=\"https://www.proverbes-francais.fr/citations-themes/lettre-l/\">L</a>\\r\\n<a href=\"https://www.proverbes-francais.fr/citations-themes/lettre-m/\">M</a>\\r\\n<a href=\"https://www.proverbes-francais.fr/citations-themes/lettre-n/\">N</a>\\r\\n<a href=\"https://www.proverbes-francais.fr/citations-themes/lettre-o/\">O</a>\\r\\n<a href=\"https://www.proverbes-francais.fr/citations-themes/lettre-p/\">P</a>\\r\\n<a href=\"https://www.proverbes-francais.fr/citations-themes/lettre-q/\">Q</a>\\r\\n<a href=\"https://www.proverbes-francais.fr/citations-themes/lettre-r/\">R</a>\\r\\n<a href=\"https://www.proverbes-francais.fr/citations-themes/lettre-s/\">S</a>\\r\\n<a href=\"https://www.proverbes-francais.fr/citations-themes/lettre-t/\">T</a>\\r\\n<a href=\"https://www.proverbes-francais.fr/citations-themes/lettre-u/\">U</a>\\r\\n<a href=\"https://www.proverbes-francais.fr/citations-themes/lettre-v/\">V</a>\\r\\n<a href=\"https://www.proverbes-francais.fr/citations-themes/lettre-w/\">W</a>\\r\\n<a href=\"https://www.proverbes-francais.fr/citations-themes/lettre-x/\">X</a>\\r\\n<a href=\"https://www.proverbes-francais.fr/citations-themes/lettre-y/\">Y</a>\\r\\n<a href=\"https://www.proverbes-francais.fr/citations-themes/lettre-z/\">Z</a>\\r\\n</li></ul></div>\\r\\n<div class=\"liste-citations\"><ul>\\r\\n<li><a href=\"https://www.proverbes-francais.fr/citations-paix/\">Paix : <q> L\\'essence de la paix est d\\'être éternelle. </q></a></li>\\r\\n<li><a href=\"https://www.proverbes-francais.fr/citations-paradis/\">Paradis : <q> Fais ton paradis sur la terre en attendant l\\'autre. </q></a></li>\\r\\n<li><a href=\"https://www.proverbes-francais.fr/citations-pardon/\">Pardon : <q> Le pardon est la remise d\\'une peine méritée. </q></a></li>\\r\\n<li><a href=\"https://www.proverbes-francais.fr/citations-parente/\">Parenté : <q> La parenté subsiste toujours après les querelles. </q></a></li>\\r\\n<li><a href=\"https://www.proverbes-francais.fr/citations-parents/\">Parents : <q> On ne peut jamais s\\'acquitter envers ses parents. </q></a></li>\\r\\n<li><a href=\"https://www.proverbes-francais.fr/citations-paresse/\">Paresse : <q> La paresse est le refus de faire ce qui vous ennuie. </q></a></li>\\r\\n<li><a href=\"https://www.proverbes-francais.fr/citations-paresseux/\">Paresseux : <q> On reconnaît le paresseux, quand il fuit le travail. </q></a></li>\\r\\n<li><a href=\"https://www.proverbes-francais.fr/citations-parfait/\">Parfait : <q> En ce monde il n\\'est point d\\'être parfait. </q></a></li>\\r\\n<li><a href=\"https://www.proverbes-francais.fr/citations-parfum/\">Parfum : <q> Le parfum de l\\'âme, c\\'est le souvenir. </q></a></li>\\r\\n<li><a href=\"https://www.proverbes-francais.fr/citations-parjure/\">Parjure : <q> L\\'habitude de jurer expose au parjure. </q></a></li>\\r\\n<li><a href=\"https://www.proverbes-francais.fr/citations-paroles/\">Paroles : <q> Les paroles sans les pensées ne vont jamais au ciel. </q></a></li>\\r\\n<li><a href=\"https://www.proverbes-francais.fr/citations-partage/\">Partage : <q> Une amitié sans partage souffre de ne pas être partagée. </q></a></li>\\r\\n<li><a href=\"https://www.proverbes-francais.fr/citations-parti/\">Parti : <q> De deux mauvais partis, l\\'un est meilleur que l\\'autre. </q></a></li>\\r\\n<li><a href=\"https://www.proverbes-francais.fr/citations-parvenu/\">Parvenu : <q> Le parvenu est aussi riche en ridicules qu\\'en espèces. </q></a></li>\\r\\n<li><a href=\"https://www.proverbes-francais.fr/citations-passe/\">Passé : <q> Le passé est lointain, le futur est incertain. </q></a></li>\\r\\n<li><a href=\"https://www.proverbes-francais.fr/citations-passion/\">Passion : <q> Tout ce qui n\\'est pas passion est sur un fond d\\'ennui. </q></a></li>\\r\\n<li><a href=\"https://www.proverbes-francais.fr/citations-passions/\">Passions : <q> Les passions font plus de fautes que le jugement. </q></a></li>\\r\\n<li><a href=\"https://www.proverbes-francais.fr/citations-patience/\">Patience : <q> Avec du travail et de la patience, une souris coupe un câble. </q></a></li>\\r\\n<li><a href=\"https://www.proverbes-francais.fr/citations-patient/\">Patient : <q> L\\'homme patient et courageux fait lui-même son bonheur. </q></a></li>\\r\\n<li><a href=\"https://www.proverbes-francais.fr/citations-patrie/\">Patrie : <q> La patrie à jamais vit dans notre pensée et dans notre cœur. </q></a></li>\\r\\n<li><a href=\"https://www.proverbes-francais.fr/citations-pauvre/\">Pauvre : <q> La charité du pauvre, c\\'est de vouloir du bien au riche. </q></a></li>\\r\\n<li><a href=\"https://www.proverbes-francais.fr/citations-pauvrete/\">Pauvreté : <q> Qui s\\'accommode de sa pauvreté est riche. </q></a></li>\\r\\n<li><a href=\"https://www.proverbes-francais.fr/citations-pays/\">Pays : <q> On est toujours de son pays, pas toujours de sa famille. </q></a></li>\\r\\n<li><a href=\"https://www.proverbes-francais.fr/citations-peche/\">Péché : <q> La peine suit toujours le péché. </q></a></li>\\r\\n<li><a href=\"https://www.proverbes-francais.fr/citations-pedant/\">Pédant : <q> Un pédant n\\'a bien souvent fait qu\\'un idiot. </q></a></li>\\r\\n<li><a href=\"https://www.proverbes-francais.fr/citations-peine/\">Peine : <q> Il faut se donner de la peine quand on veut réussir. </q></a></li>\\r\\n<li><a href=\"https://www.proverbes-francais.fr/citations-penchant/\">Penchant : <q> Il n\\'y a pas de mauvais penchant que le naturel ne dévoile. </q></a></li>\\r\\n<li><a href=\"https://www.proverbes-francais.fr/citations-pensee/\">Pensée : <q> La rêverie est la vapeur de la pensée. </q></a></li>\\r\\n<li><a href=\"https://www.proverbes-francais.fr/citations-pensees/\">Pensées : <q> Les grandes pensées viennent du cœur. </q></a></li>\\r\\n<li><a href=\"https://www.proverbes-francais.fr/citations-perdu/\">Perdu : <q> Que de temps perdu à gagner du temps ! </q></a></li>\\r\\n<li><a href=\"https://www.proverbes-francais.fr/citations-pere/\">Père : <q> Fils tu es, père tu seras ; ce que tu donnes tu recevras. </q></a></li>\\r\\n<li><a href=\"https://www.proverbes-francais.fr/citations-perfection/\">Perfection : <q> À toute perfection, il y a un si ou un mais. </q></a></li>\\r\\n<li><a href=\"https://www.proverbes-francais.fr/citations-perfidie/\">Perfidie : <q> La perfidie se cache sous des semblants d\\'amitié. </q></a></li>\\r\\n<li><a href=\"https://www.proverbes-francais.fr/citations-peril/\">Péril : <q> Le brave évite plus de périls que le peureux. </q></a></li>\\r\\n<li><a href=\"https://www.proverbes-francais.fr/citations-perseverance/\">Persévérance : <q> La persévérance vient à bout de tout. </q></a></li>\\r\\n<li><a href=\"https://www.proverbes-francais.fr/citations-personne/\">Personne : <q> On n\\'aime plus personne quand on aime. </q></a></li>\\r\\n<li><a href=\"https://www.proverbes-francais.fr/citations-perte/\">Perte : <q> La vie n\\'est qu\\'une longue perte de tout ce qu\\'on aime. </q></a></li>\\r\\n<li><a href=\"https://www.proverbes-francais.fr/citations-peuple/\">Peuple : <q> Le peuple est composé d\\'imbéciles furieux. </q></a></li>\\r\\n<li><a href=\"https://www.proverbes-francais.fr/citations-peur/\">Peur : <q> Souvent la peur d\\'un mal nous conduit dans un pire. </q></a></li>\\r\\n<li><a href=\"https://www.proverbes-francais.fr/citations-philosophe/\">Philosophe : <q> On ne fait rien d\\'un philosophe. </q></a></li>\\r\\n<li><a href=\"https://www.proverbes-francais.fr/citations-philosophie/\">Philosophie : <q> La philosophie enseigne à faire non à parler. </q></a></li>\\r\\n<li><a href=\"https://www.proverbes-francais.fr/citations-physique/\">Physique : <q> La beauté de l\\'âme l\\'emporte sur la beauté physique. </q></a></li>\\r\\n<li><a href=\"https://www.proverbes-francais.fr/citations-pieds/\">Pieds : <q> La terre est la même pour tous les pieds. </q></a></li>\\r\\n<li><a href=\"https://www.proverbes-francais.fr/citations-pire/\">Pire : <q> On fait souvent pire en voulant faire mieux. </q></a></li>\\r\\n<li><a href=\"https://www.proverbes-francais.fr/citations-pitie/\">Pitié : <q> Mieux vaut faire envie que pitié. </q></a></li>\\r\\n<li><a href=\"https://www.proverbes-francais.fr/citations-plaie/\">Plaie : <q> Chaque jour qui passe ajoute une plaie à ses blessures. </q></a></li>\\r\\n<li><a href=\"https://www.proverbes-francais.fr/citations-plainte/\">Plainte : <q> Les plaintes ne servent qu\\'à rendre la douleur plus vive. </q></a></li>\\r\\n<li><a href=\"https://www.proverbes-francais.fr/citations-plaisanterie/\">Plaisanterie : <q> La plaisanterie sert souvent de véhicule à la vérité. </q></a></li>\\r\\n<li><a href=\"https://www.proverbes-francais.fr/citations-plaisir/\">Plaisir : <q> Il faut faire plaisir à ceux qu\\'on aime à toute heure. </q></a></li>\\r\\n<li><a href=\"https://www.proverbes-francais.fr/citations-plaisirs/\">Plaisirs : <q> Le fruit du travail est le plus doux des plaisirs. </q></a></li>\\r\\n<li><a href=\"https://www.proverbes-francais.fr/citations-pleurs/\">Pleurs : <q> L\\'amour n\\'a laissé dans ma vie que des pleurs. </q></a></li>\\r\\n<li><a href=\"https://www.proverbes-francais.fr/citations-poesie/\">Poésie : <q> La poésie nous fait entendre la respiration d\\'une âme. </q></a></li>\\r\\n<li><a href=\"https://www.proverbes-francais.fr/citations-poete/\">Poète : <q> Les poètes sont comme les femmes, ils ne vieillissent pas. </q></a></li>\\r\\n<li><a href=\"https://www.proverbes-francais.fr/citations-poison/\">Poison : <q> La langue est un véritable poison qui déchire. </q></a></li>\\r\\n<li><a href=\"https://www.proverbes-francais.fr/citations-poli/\">Poli : <q> Un homme poli est celui qui a reçu une bonne éducation. </q></a></li>\\r\\n<li><a href=\"https://www.proverbes-francais.fr/citations-politesse/\">Politesse : <q> La politesse coûte peu et achète tout. </q></a></li>\\r\\n<li><a href=\"https://www.proverbes-francais.fr/citations-politicien/\">Politicien : <q> Les politiciens sont souvent des hommes de lettres ratés. </q></a></li>\\r\\n<li><a href=\"https://www.proverbes-francais.fr/citations-politique/\">Politique : <q> La politique est l\\'art d\\'endormir et d\\'exploiter le peuple. </q></a></li>\\r\\n<li><a href=\"https://www.proverbes-francais.fr/citations-porte/\">Porte : <q> À porte close, le diable s\\'en retourne. </q></a></li>\\r\\n<li><a href=\"https://www.proverbes-francais.fr/citations-possible/\">Possible : <q> Aimer sans doute est le possible le plus lointain. </q></a></li>\\r\\n<li><a href=\"https://www.proverbes-francais.fr/citations-possession/\">Possession : <q> Le désir fleurit, la possession flétrit toutes choses. </q></a></li>\\r\\n<li><a href=\"https://www.proverbes-francais.fr/citations-precaution/\">Précaution : <q> Il n\\'y a aucune occasion où la précaution ne soit utile. </q></a></li>\\r\\n<li><a href=\"https://www.proverbes-francais.fr/citations-precieux/\">Précieux : <q> Rien n\\'est plus précieux que ton cœur, veille sur lui. </q></a></li>\\r\\n<li><a href=\"https://www.proverbes-francais.fr/citations-prejuges/\">Préjugés : <q> Le préjugé est la première idole de la paresse. </q></a></li>\\r\\n<li><a href=\"https://www.proverbes-francais.fr/citations-presence/\">Présence : <q> La présence diminue la réputation, l\\'absence l\\'augmente. </q></a></li>\\r\\n<li><a href=\"https://www.proverbes-francais.fr/citations-present/\">Présent : <q> Le présent n\\'est beau que paré des grâces de l\\'espérance. </q></a></li>\\r\\n<li><a href=\"https://www.proverbes-francais.fr/citations-presomption/\">Présomption : <q> Une trop grande présomption cause d\\'affreux malheurs. </q></a></li>\\r\\n<li><a href=\"https://www.proverbes-francais.fr/citations-pretentieux/\">Prétentieux : <q> Le crétin prétentieux est celui qui se croit plus intelligent que tous. </q></a></li>\\r\\n<li><a href=\"https://www.proverbes-francais.fr/citations-pretention/\">Prétention : <q> La prétention empêche de voir plus loin que soi. </q></a></li>\\r\\n<li><a href=\"https://www.proverbes-francais.fr/citations-preuve/\">Preuve : <q> Les preuves sont un antidote contre les faux témoignages. </q></a></li>\\r\\n<li><a href=\"https://www.proverbes-francais.fr/citations-prevention/\">Prévention : <q> La prévention a toujours l\\'ignorance en croupe. </q></a></li>\\r\\n<li><a href=\"https://www.proverbes-francais.fr/citations-principes/\">Principes : <q> Il faut mettre ses principes dans les grandes choses. </q></a></li>\\r\\n<li><a href=\"https://www.proverbes-francais.fr/citations-priere/\">Prière : <q> Les prières raniment les espérances du cœur. </q></a></li>\\r\\n<li><a href=\"https://www.proverbes-francais.fr/citations-prison/\">Prison : <q> La liberté jamais ne mourut au fond des prisons. </q></a></li>\\r\\n<li><a href=\"https://www.proverbes-francais.fr/citations-privation/\">Privation : <q> La privation fait trouver tout meilleur. </q></a></li>\\r\\n<li><a href=\"https://www.proverbes-francais.fr/citations-prix/\">Prix : <q> Rien ne doit être estimé plus haut que le prix d\\'un jour. </q></a></li>\\r\\n<li><a href=\"https://www.proverbes-francais.fr/citations-probleme/\">Problème : <q> Un problème en cache toujours un autre. </q></a></li>\\r\\n<li><a href=\"https://www.proverbes-francais.fr/citations-prochain/\">Prochain : <q> L\\'amour du prochain est le dernier en date de nos amours. </q></a></li>\\r\\n<li><a href=\"https://www.proverbes-francais.fr/citations-profit/\">Profit : <q> Honneur et profit ne couchent pas au même lit. </q></a></li>\\r\\n<li><a href=\"https://www.proverbes-francais.fr/citations-progres/\">Progrès : <q> On obtient de réels progrès que par un travail assidu. </q></a></li>\\r\\n<li><a href=\"https://www.proverbes-francais.fr/citations-projet/\">Projet : <q> Le projet est l\\'ombre de la volonté. </q></a></li>\\r\\n<li><a href=\"https://www.proverbes-francais.fr/citations-promesse/\">Promesse : <q> Il faut s\\'acquitter d\\'une promesse quoiqu\\'il en coûte. </q></a></li>\\r\\n<li><a href=\"https://www.proverbes-francais.fr/citations-prosperite/\">Prospérité : <q> La prospérité fait peu d\\'amis. </q></a></li>\\r\\n<li><a href=\"https://www.proverbes-francais.fr/citations-providence/\">Providence : <q> La Providence cicatrise toutes les plaies du cœur. </q></a></li>\\r\\n<li><a href=\"https://www.proverbes-francais.fr/citations-prudent/\">Prudent : <q> Qui connaît les hommes est prudent. </q></a></li>\\r\\n<li><a href=\"https://www.proverbes-francais.fr/citations-prudence/\">Prudence : <q> Le silence est le sanctuaire de la prudence. </q></a></li>\\r\\n<li><a href=\"https://www.proverbes-francais.fr/citations-pudeur/\">Pudeur : <q> La pudeur est le sentiment le plus exquis de la femme. </q></a></li>\\r\\n<li><a href=\"https://www.proverbes-francais.fr/citations-puissance/\">Puissance : <q> La plus grande puissance en ce monde, c\\'est l\\'argent. </q></a></li>\\r\\n<li><a href=\"https://www.proverbes-francais.fr/citations-puissant/\">Puissant : <q> On est toujours assez puissant pour nuire. </q></a></li>\\r\\n<li><a href=\"https://www.proverbes-francais.fr/citations-punition/\">Punition : <q> Chaque mauvaise action porte en elle sa punition. </q></a></li>\\r\\n<li><a href=\"#menutop\"><b>Retour vers le haut de la page.</b></a></li>\\r\\n</ul></div></div>\\r\\n<h2>La pensée et citation du jour :</h2>\\r\\n<div class=\"rubriques-connexes\">\\r\\n<a href=\"https://www.proverbes-francais.fr/citation-du-jour/\">Découvrez une nouvelle citation ou pensée chaque jour</a>.\\r\\n</div></article></div>\\r\\n<div id=\"sidebar\"><nav id=\"menudroit\"><p>Recherchez une citation :</p>\\n<ul><li><a href=\"https://www.proverbes-francais.fr/moteur-recherche-citations/\">Le moteur de recherche</a></li>\\n</ul>\\n<p>Les auteurs français et étrangers :</p>\\n<ul><li><a href=\"https://www.proverbes-francais.fr/citations-auteurs/\">Les meilleures citations d\\'auteurs</a></li>\\n</ul>\\n<p>Les rubriques sur les citations :</p>\\n<ul><li><a href=\"https://www.proverbes-francais.fr/citation-du-jour/\">La citation du jour</a></li>\\n<li><a href=\"https://www.proverbes-francais.fr/dernieres-citations-publiees/\">Les dernières citations</a></li>\\n<li><a href=\"https://www.proverbes-francais.fr/citations-themes/\">Les citations par thèmes</a></li>\\n<li><a href=\"https://www.proverbes-francais.fr/citations-verbes/\">Les citations par verbes</a></li>\\n</ul>\\n<p></p>\\n<div class=\"gamp2\">\\n<script async src=\"//pagead2.googlesyndication.com/pagead/js/adsbygoogle.js\"></script>\\n<!-- Sidebar réactive citations -->\\n<ins class=\"adsbygoogle\"\\nstyle=\"display:block\"\\ndata-ad-client=\"ca-pub-1585310109702645\"\\ndata-ad-slot=\"3627298535\"\\ndata-ad-format=\"auto\"></ins>\\n<script>\\n(adsbygoogle = window.adsbygoogle || []).push({});\\n</script>\\n</div>\\n<p>Les rubriques sur les proverbes :</p>\\n<ul><li><a href=\"https://www.proverbes-francais.fr/origine-proverbe-explications/\">Découvrez l\\'origine du proverbe</a></li>\\n<li><a href=\"https://www.proverbes-francais.fr/proverbe-du-jour/\">Consultez le proverbe du jour</a></li>\\n<li><a href=\"https://www.proverbes-francais.fr/proverbes-verbes/\">Le classement par verbes</a></li>\\n<li><a href=\"https://www.proverbes-francais.fr/proverbes-pays/\">Le classement par pays</a></li>\\n<li><a href=\"https://www.proverbes-francais.fr/proverbes-expliques/\">Quelques proverbes expliqués</a></li>\\n</ul>\\n<p>Les dernières rubriques :</p>\\n<ul><li><a href=\"https://www.proverbes-francais.fr/citations-besoin/\">Le besoin fait tout faire.</a></li>\\n<li><a href=\"https://www.proverbes-francais.fr/citations-menteur/\">Les menteurs sont des sots !</a></li>\\n</ul></nav></div></div>\\r\\n<footer id=\"footer\"><div id=\"copyright\"><p>Copyright © www.proverbes-francais.fr 2021 - Tous droits réservés.</p></div>\\n<div id=\"footer-menu\"><ul>\\n<li><a title=\"Les mentions légales\" href=\"https://www.proverbes-francais.fr/mentions-legales/\">Mentions légales</a></li>\\n<li><a title=\"Nous contacter\" href=\"https://www.proverbes-francais.fr/formulaire-contact/\">Nous contacter</a></li>\\n<li><a title=\"Retour en haut de la page\" href=\"#evitement\">Haut de page</a></li>\\n</ul></div>\\n<script type=\"text/javascript\" src=\"//s7.addthis.com/js/300/addthis_widget.js#pubid=ra-5bab5d9d6e1f4a89\"></script>\\n<!-- Global site tag (gtag.js) - Google Analytics -->\\n<script async src=\"https://www.googletagmanager.com/gtag/js?id=UA-20921045-3\"></script>\\n<script>\\n  window.dataLayer = window.dataLayer || [];\\n  function gtag(){dataLayer.push(arguments);}\\n  gtag(\\'js\\', new Date());\\n\\n  gtag(\\'config\\', \\'UA-20921045-3\\');\\n</script>\\n</footer></div></body></html>'"
      ]
     },
     "execution_count": 3,
     "metadata": {},
     "output_type": "execute_result"
    }
   ],
   "source": [
    "response.text\n",
    "\n"
   ]
  },
  {
   "cell_type": "code",
   "execution_count": 4,
   "metadata": {},
   "outputs": [],
   "source": [
    "def scraper_themes(debutmot, texte, mot_banni):\n",
    "    out = []\n",
    "    nm = len(debutmot)\n",
    "    n=len(texte)-nm\n",
    "    for i in range(n):\n",
    "        if texte[i:i+nm] == debutmot:\n",
    "            #print(texte[i:i+nm])\n",
    "            k = i+nm\n",
    "            while texte[k] != '\"':\n",
    "                k+=1\n",
    "            if not mot_banni in texte[i : k+1]:\n",
    "                out.append(texte[i : k+1][1:-1])\n",
    "    return out"
   ]
  },
  {
   "cell_type": "code",
   "execution_count": 5,
   "metadata": {},
   "outputs": [],
   "source": [
    "#o=scraper_themes('\"https://www.proverbes-francais.fr/citations', response.text, \"!!!!!\")\n",
    "#print(o)"
   ]
  },
  {
   "cell_type": "code",
   "execution_count": 6,
   "metadata": {},
   "outputs": [],
   "source": [
    "adresses_lettres = [\"https://www.proverbes-francais.fr/citations-themes/lettre-{}/\".format(chr(97+i)) for i in range(26)]"
   ]
  },
  {
   "cell_type": "code",
   "execution_count": 7,
   "metadata": {},
   "outputs": [
    {
     "name": "stdout",
     "output_type": "stream",
     "text": [
      "https://www.proverbes-francais.fr/citations-actions/\n"
     ]
    }
   ],
   "source": [
    "adresses_themes = []\n",
    "for adresse in adresses_lettres:\n",
    "    response = requests.get(adresse)\n",
    "    adresses_themes += scraper_themes('\"https://www.proverbes-francais.fr/citations-{}'.format(adresse[-2]),response.text\n",
    "                              ,\"lettre\")\n",
    "print(adresses_themes[10])"
   ]
  },
  {
   "cell_type": "code",
   "execution_count": 8,
   "metadata": {},
   "outputs": [],
   "source": [
    "def citation_scraper(adresse, trigger_quote = '=\"post', header_quote = \"q>\", trigger_author = \"Citation de\"\n",
    "                     ,ignore =(\"<\", \">\"), end_author = \"</a>\"):\n",
    "    texte = requests.get(adresse).text\n",
    "    quotes = []\n",
    "    authors = []\n",
    "    for i in range(len(texte)-len(trigger_quote)):\n",
    "        if texte[i: i+len(trigger_quote)] == trigger_quote:\n",
    "            k = i+ len(trigger_quote)\n",
    "            idebut = 0\n",
    "            ifin = 0\n",
    "            while texte[k:k+len(header_quote)] != header_quote:\n",
    "                k=k+1\n",
    "            idebut=k + len(header_quote)\n",
    "            k = k+2\n",
    "            while texte[k:k+len(header_quote)] != header_quote:\n",
    "                k = k+1\n",
    "            ifin = k\n",
    "            quotes.append(texte[idebut:ifin-3])\n",
    "            while texte[k:k+len(trigger_author)] != trigger_author:\n",
    "                k = k+1\n",
    "            k = k + len(trigger_author)\n",
    "            while texte[k:k+len(ignore[0])] != ignore[0]:\n",
    "                k = k+1\n",
    "            while texte[k:k+len(ignore[1])] != ignore[1]:\n",
    "                k = k+1\n",
    "            k = k + len(ignore[1])\n",
    "            l=k\n",
    "            while texte[l:l+len(end_author)] != end_author:\n",
    "                l = l+1\n",
    "            authors.append(texte[k:l])\n",
    "    return quotes, authors\n",
    "            \n",
    "                \n"
   ]
  },
  {
   "cell_type": "code",
   "execution_count": 9,
   "metadata": {},
   "outputs": [],
   "source": [
    "import tqdm"
   ]
  },
  {
   "cell_type": "code",
   "execution_count": 10,
   "metadata": {},
   "outputs": [
    {
     "name": "stderr",
     "output_type": "stream",
     "text": [
      "100%|████████████████████████████████████████████████████████████████████████████████| 810/810 [02:50<00:00,  4.75it/s]\n"
     ]
    }
   ],
   "source": [
    "\"\"\"création de la DB\"\"\"\n",
    "quotes, authors = [], []\n",
    "for i in tqdm.tqdm(range(len(adresses_themes))):\n",
    "    nq, na = citation_scraper(adresses_themes[i])\n",
    "    quotes += nq\n",
    "    authors += na"
   ]
  },
  {
   "cell_type": "code",
   "execution_count": 14,
   "metadata": {},
   "outputs": [],
   "source": [
    "import csv"
   ]
  },
  {
   "cell_type": "code",
   "execution_count": 15,
   "metadata": {},
   "outputs": [
    {
     "name": "stderr",
     "output_type": "stream",
     "text": [
      "100%|███████████████████████████████████████████████████████████████████████| 18932/18932 [00:00<00:00, 1184960.36it/s]\n"
     ]
    }
   ],
   "source": [
    "assert len(quotes) == len(authors)\n",
    "\n",
    "file = open('bot_philo_small.txt', 'w+', encoding = 'utf-8')\n",
    "\n",
    "for i in tqdm.tqdm(range(len(quotes))):\n",
    "    if i%10 ==0:\n",
    "        file.write('\"' +quotes[i] + '\" -' + authors[i]+\"\\n\")\n",
    "file.close()"
   ]
  },
  {
   "cell_type": "code",
   "execution_count": 162,
   "metadata": {},
   "outputs": [],
   "source": [
    "#!pip install torch==1.7.0+cu101 torchvision==0.8.1+cu101 torchaudio===0.7.0 -f https://download.pytorch.org/whl/torch_stable.html"
   ]
  },
  {
   "cell_type": "code",
   "execution_count": 175,
   "metadata": {},
   "outputs": [
    {
     "data": {
      "text/plain": [
       "'\" L\\'abandon est une île déserte où l\\'on est conduit par le radeau de l\\'égoïsme.\" -Jean-Louis-Auguste Commerson'"
      ]
     },
     "execution_count": 175,
     "metadata": {},
     "output_type": "execute_result"
    }
   ],
   "source": [
    "'\"' +quotes[0] + '\" -' + authors[0]"
   ]
  },
  {
   "cell_type": "code",
   "execution_count": null,
   "metadata": {},
   "outputs": [],
   "source": []
  },
  {
   "cell_type": "code",
   "execution_count": null,
   "metadata": {},
   "outputs": [],
   "source": []
  },
  {
   "cell_type": "code",
   "execution_count": null,
   "metadata": {},
   "outputs": [],
   "source": []
  },
  {
   "cell_type": "code",
   "execution_count": null,
   "metadata": {},
   "outputs": [],
   "source": []
  },
  {
   "cell_type": "code",
   "execution_count": null,
   "metadata": {},
   "outputs": [],
   "source": []
  }
 ],
 "metadata": {
  "kernelspec": {
   "display_name": "Python 3",
   "language": "python",
   "name": "python3"
  },
  "language_info": {
   "codemirror_mode": {
    "name": "ipython",
    "version": 3
   },
   "file_extension": ".py",
   "mimetype": "text/x-python",
   "name": "python",
   "nbconvert_exporter": "python",
   "pygments_lexer": "ipython3",
   "version": "3.8.3"
  }
 },
 "nbformat": 4,
 "nbformat_minor": 4
}
